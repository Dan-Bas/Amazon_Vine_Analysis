{
 "metadata": {
  "language_info": {
   "codemirror_mode": {
    "name": "ipython",
    "version": 3
   },
   "file_extension": ".py",
   "mimetype": "text/x-python",
   "name": "python",
   "nbconvert_exporter": "python",
   "pygments_lexer": "ipython3",
   "version": "3.7.7-final"
  },
  "orig_nbformat": 2,
  "kernelspec": {
   "name": "pythondata",
   "display_name": "PythonData"
  }
 },
 "nbformat": 4,
 "nbformat_minor": 2,
 "cells": [
  {
   "cell_type": "code",
   "execution_count": 1,
   "metadata": {},
   "outputs": [],
   "source": [
    "# Add the Pandas dependency\n",
    "import pandas as pd"
   ]
  },
  {
   "cell_type": "code",
   "execution_count": 2,
   "metadata": {},
   "outputs": [
    {
     "output_type": "execute_result",
     "data": {
      "text/plain": [
       "              review_id star_rating  helpful_votes  total_votes vine  \\\n",
       "1171800   RHOECDLFHG4HC           4            0.0          0.0    N   \n",
       "3654686   RR3H2B58M6CSU           5            0.0          0.0    N   \n",
       "1772949   RO225N1ORZSXK           5            0.0          0.0    N   \n",
       "2640319  R1CPCEF6QTM9D9           5            0.0          0.0    N   \n",
       "5604253  R38JO89YE6Q6FD           5            0.0          0.0    N   \n",
       "\n",
       "        verified_purchase  \n",
       "1171800                 Y  \n",
       "3654686                 Y  \n",
       "1772949                 Y  \n",
       "2640319                 Y  \n",
       "5604253                 Y  "
      ],
      "text/html": "<div>\n<style scoped>\n    .dataframe tbody tr th:only-of-type {\n        vertical-align: middle;\n    }\n\n    .dataframe tbody tr th {\n        vertical-align: top;\n    }\n\n    .dataframe thead th {\n        text-align: right;\n    }\n</style>\n<table border=\"1\" class=\"dataframe\">\n  <thead>\n    <tr style=\"text-align: right;\">\n      <th></th>\n      <th>review_id</th>\n      <th>star_rating</th>\n      <th>helpful_votes</th>\n      <th>total_votes</th>\n      <th>vine</th>\n      <th>verified_purchase</th>\n    </tr>\n  </thead>\n  <tbody>\n    <tr>\n      <th>1171800</th>\n      <td>RHOECDLFHG4HC</td>\n      <td>4</td>\n      <td>0.0</td>\n      <td>0.0</td>\n      <td>N</td>\n      <td>Y</td>\n    </tr>\n    <tr>\n      <th>3654686</th>\n      <td>RR3H2B58M6CSU</td>\n      <td>5</td>\n      <td>0.0</td>\n      <td>0.0</td>\n      <td>N</td>\n      <td>Y</td>\n    </tr>\n    <tr>\n      <th>1772949</th>\n      <td>RO225N1ORZSXK</td>\n      <td>5</td>\n      <td>0.0</td>\n      <td>0.0</td>\n      <td>N</td>\n      <td>Y</td>\n    </tr>\n    <tr>\n      <th>2640319</th>\n      <td>R1CPCEF6QTM9D9</td>\n      <td>5</td>\n      <td>0.0</td>\n      <td>0.0</td>\n      <td>N</td>\n      <td>Y</td>\n    </tr>\n    <tr>\n      <th>5604253</th>\n      <td>R38JO89YE6Q6FD</td>\n      <td>5</td>\n      <td>0.0</td>\n      <td>0.0</td>\n      <td>N</td>\n      <td>Y</td>\n    </tr>\n  </tbody>\n</table>\n</div>"
     },
     "metadata": {},
     "execution_count": 2
    }
   ],
   "source": [
    "# load vine_table file\n",
    "file_to_load = \"vine_table.csv\"\n",
    "\n",
    "# Read the CSV into a DataFrame\n",
    "vine_table_df = pd.read_csv(file_to_load)\n",
    "vine_table_df.sample(5)"
   ]
  },
  {
   "cell_type": "code",
   "execution_count": 210,
   "metadata": {},
   "outputs": [],
   "source": [
    "# Total_votes count is equal or greater than 20\n",
    "total_votes_GE20 = vine_table_df[vine_table_df[\"total_votes\"] >=20 ]"
   ]
  },
  {
   "cell_type": "code",
   "execution_count": 196,
   "metadata": {},
   "outputs": [
    {
     "output_type": "execute_result",
     "data": {
      "text/plain": [
       "              review_id star_rating  helpful_votes  total_votes vine  \\\n",
       "8794586  R3ENBWPOUXXFTH           3           22.0         26.0    N   \n",
       "8570639  R2FRF1SY4W1BNF           1            2.0         23.0    N   \n",
       "8772755  R27RMLXLABGEQE           5           48.0         52.0    N   \n",
       "8993548   R4SN5G60SZLA3           1            6.0         49.0    N   \n",
       "502815    RN4V94BO26V2G           4          105.0        112.0    N   \n",
       "\n",
       "        verified_purchase  \n",
       "8794586                 Y  \n",
       "8570639                 Y  \n",
       "8772755                 Y  \n",
       "8993548                 N  \n",
       "502815                  Y  "
      ],
      "text/html": "<div>\n<style scoped>\n    .dataframe tbody tr th:only-of-type {\n        vertical-align: middle;\n    }\n\n    .dataframe tbody tr th {\n        vertical-align: top;\n    }\n\n    .dataframe thead th {\n        text-align: right;\n    }\n</style>\n<table border=\"1\" class=\"dataframe\">\n  <thead>\n    <tr style=\"text-align: right;\">\n      <th></th>\n      <th>review_id</th>\n      <th>star_rating</th>\n      <th>helpful_votes</th>\n      <th>total_votes</th>\n      <th>vine</th>\n      <th>verified_purchase</th>\n    </tr>\n  </thead>\n  <tbody>\n    <tr>\n      <th>8794586</th>\n      <td>R3ENBWPOUXXFTH</td>\n      <td>3</td>\n      <td>22.0</td>\n      <td>26.0</td>\n      <td>N</td>\n      <td>Y</td>\n    </tr>\n    <tr>\n      <th>8570639</th>\n      <td>R2FRF1SY4W1BNF</td>\n      <td>1</td>\n      <td>2.0</td>\n      <td>23.0</td>\n      <td>N</td>\n      <td>Y</td>\n    </tr>\n    <tr>\n      <th>8772755</th>\n      <td>R27RMLXLABGEQE</td>\n      <td>5</td>\n      <td>48.0</td>\n      <td>52.0</td>\n      <td>N</td>\n      <td>Y</td>\n    </tr>\n    <tr>\n      <th>8993548</th>\n      <td>R4SN5G60SZLA3</td>\n      <td>1</td>\n      <td>6.0</td>\n      <td>49.0</td>\n      <td>N</td>\n      <td>N</td>\n    </tr>\n    <tr>\n      <th>502815</th>\n      <td>RN4V94BO26V2G</td>\n      <td>4</td>\n      <td>105.0</td>\n      <td>112.0</td>\n      <td>N</td>\n      <td>Y</td>\n    </tr>\n  </tbody>\n</table>\n</div>"
     },
     "metadata": {},
     "execution_count": 196
    }
   ],
   "source": [
    "total_votes_GE20.sample(5)"
   ]
  },
  {
   "cell_type": "code",
   "execution_count": 211,
   "metadata": {},
   "outputs": [],
   "source": [
    "# Adding a new column [prcnt]\n",
    "total_votes_GE20['prcnt'] = (total_votes_GE20['helpful_votes'] / total_votes_GE20['total_votes'])*100"
   ]
  },
  {
   "cell_type": "code",
   "execution_count": 212,
   "metadata": {},
   "outputs": [
    {
     "output_type": "execute_result",
     "data": {
      "text/plain": [
       "              review_id star_rating  helpful_votes  total_votes vine  \\\n",
       "3531160  R21MO4NZTRH4OL           5           17.0         20.0    N   \n",
       "8529545  R28JRKZFWBLWW1           5           17.0         20.0    N   \n",
       "1240253  R1M94MKOODQ2X9           1           12.0         34.0    N   \n",
       "148257    ROKXEMUU1BYFE           5            1.0         22.0    N   \n",
       "7837738  R2T60G4C1OZO8E           1           20.0         23.0    N   \n",
       "\n",
       "        verified_purchase      prcnt  \n",
       "3531160                 N  85.000000  \n",
       "8529545                 Y  85.000000  \n",
       "1240253                 Y  35.294118  \n",
       "148257                  N   4.545455  \n",
       "7837738                 Y  86.956522  "
      ],
      "text/html": "<div>\n<style scoped>\n    .dataframe tbody tr th:only-of-type {\n        vertical-align: middle;\n    }\n\n    .dataframe tbody tr th {\n        vertical-align: top;\n    }\n\n    .dataframe thead th {\n        text-align: right;\n    }\n</style>\n<table border=\"1\" class=\"dataframe\">\n  <thead>\n    <tr style=\"text-align: right;\">\n      <th></th>\n      <th>review_id</th>\n      <th>star_rating</th>\n      <th>helpful_votes</th>\n      <th>total_votes</th>\n      <th>vine</th>\n      <th>verified_purchase</th>\n      <th>prcnt</th>\n    </tr>\n  </thead>\n  <tbody>\n    <tr>\n      <th>3531160</th>\n      <td>R21MO4NZTRH4OL</td>\n      <td>5</td>\n      <td>17.0</td>\n      <td>20.0</td>\n      <td>N</td>\n      <td>N</td>\n      <td>85.000000</td>\n    </tr>\n    <tr>\n      <th>8529545</th>\n      <td>R28JRKZFWBLWW1</td>\n      <td>5</td>\n      <td>17.0</td>\n      <td>20.0</td>\n      <td>N</td>\n      <td>Y</td>\n      <td>85.000000</td>\n    </tr>\n    <tr>\n      <th>1240253</th>\n      <td>R1M94MKOODQ2X9</td>\n      <td>1</td>\n      <td>12.0</td>\n      <td>34.0</td>\n      <td>N</td>\n      <td>Y</td>\n      <td>35.294118</td>\n    </tr>\n    <tr>\n      <th>148257</th>\n      <td>ROKXEMUU1BYFE</td>\n      <td>5</td>\n      <td>1.0</td>\n      <td>22.0</td>\n      <td>N</td>\n      <td>N</td>\n      <td>4.545455</td>\n    </tr>\n    <tr>\n      <th>7837738</th>\n      <td>R2T60G4C1OZO8E</td>\n      <td>1</td>\n      <td>20.0</td>\n      <td>23.0</td>\n      <td>N</td>\n      <td>Y</td>\n      <td>86.956522</td>\n    </tr>\n  </tbody>\n</table>\n</div>"
     },
     "metadata": {},
     "execution_count": 212
    }
   ],
   "source": [
    "total_votes_GE20.sample(5)"
   ]
  },
  {
   "cell_type": "code",
   "execution_count": 214,
   "metadata": {},
   "outputs": [],
   "source": [
    "# number of helpful_votes divided by total_votes is equal to or greater than 50%.\n",
    "TotV_GE50prcnt = total_votes_GE20[total_votes_GE20['prcnt'] >= 50 ]"
   ]
  },
  {
   "cell_type": "code",
   "execution_count": 331,
   "metadata": {},
   "outputs": [
    {
     "output_type": "execute_result",
     "data": {
      "text/plain": [
       "              review_id star_rating  helpful_votes  total_votes vine  \\\n",
       "8202455  R2T8II7DMW9U2R           1           25.0         31.0    N   \n",
       "5745362  R33YOKVHS55JKG           3          199.0        211.0    N   \n",
       "6962690  R1CYVF3Z84YB1M           2           21.0         23.0    N   \n",
       "4376059  R2VWUOL7BVX1NL           1           27.0         35.0    N   \n",
       "7487114  R3IZ9KLZUDM7Y1           4           20.0         21.0    N   \n",
       "\n",
       "        verified_purchase      prcnt  \n",
       "8202455                 Y  80.645161  \n",
       "5745362                 N  94.312796  \n",
       "6962690                 Y  91.304348  \n",
       "4376059                 N  77.142857  \n",
       "7487114                 Y  95.238095  "
      ],
      "text/html": "<div>\n<style scoped>\n    .dataframe tbody tr th:only-of-type {\n        vertical-align: middle;\n    }\n\n    .dataframe tbody tr th {\n        vertical-align: top;\n    }\n\n    .dataframe thead th {\n        text-align: right;\n    }\n</style>\n<table border=\"1\" class=\"dataframe\">\n  <thead>\n    <tr style=\"text-align: right;\">\n      <th></th>\n      <th>review_id</th>\n      <th>star_rating</th>\n      <th>helpful_votes</th>\n      <th>total_votes</th>\n      <th>vine</th>\n      <th>verified_purchase</th>\n      <th>prcnt</th>\n    </tr>\n  </thead>\n  <tbody>\n    <tr>\n      <th>8202455</th>\n      <td>R2T8II7DMW9U2R</td>\n      <td>1</td>\n      <td>25.0</td>\n      <td>31.0</td>\n      <td>N</td>\n      <td>Y</td>\n      <td>80.645161</td>\n    </tr>\n    <tr>\n      <th>5745362</th>\n      <td>R33YOKVHS55JKG</td>\n      <td>3</td>\n      <td>199.0</td>\n      <td>211.0</td>\n      <td>N</td>\n      <td>N</td>\n      <td>94.312796</td>\n    </tr>\n    <tr>\n      <th>6962690</th>\n      <td>R1CYVF3Z84YB1M</td>\n      <td>2</td>\n      <td>21.0</td>\n      <td>23.0</td>\n      <td>N</td>\n      <td>Y</td>\n      <td>91.304348</td>\n    </tr>\n    <tr>\n      <th>4376059</th>\n      <td>R2VWUOL7BVX1NL</td>\n      <td>1</td>\n      <td>27.0</td>\n      <td>35.0</td>\n      <td>N</td>\n      <td>N</td>\n      <td>77.142857</td>\n    </tr>\n    <tr>\n      <th>7487114</th>\n      <td>R3IZ9KLZUDM7Y1</td>\n      <td>4</td>\n      <td>20.0</td>\n      <td>21.0</td>\n      <td>N</td>\n      <td>Y</td>\n      <td>95.238095</td>\n    </tr>\n  </tbody>\n</table>\n</div>"
     },
     "metadata": {},
     "execution_count": 331
    }
   ],
   "source": [
    "TotV_GE50prcnt.sample(5)"
   ]
  },
  {
   "cell_type": "code",
   "execution_count": 333,
   "metadata": {},
   "outputs": [
    {
     "output_type": "execute_result",
     "data": {
      "text/plain": [
       "65581"
      ]
     },
     "metadata": {},
     "execution_count": 333
    }
   ],
   "source": [
    "TotV_GE50prcnt['star_rating'].count()"
   ]
  },
  {
   "cell_type": "code",
   "execution_count": 280,
   "metadata": {},
   "outputs": [
    {
     "output_type": "execute_result",
     "data": {
      "text/plain": [
       "613"
      ]
     },
     "metadata": {},
     "execution_count": 280
    }
   ],
   "source": [
    "# Review was written as part of the Vine program(paid) \n",
    "vine_program_Y = TotV_GE50prcnt[total_votes_GE20['vine'] == 'Y']\n",
    "vine_program_Y['star_rating'].count()"
   ]
  },
  {
   "cell_type": "code",
   "execution_count": 218,
   "metadata": {},
   "outputs": [
    {
     "output_type": "execute_result",
     "data": {
      "text/plain": [
       "              review_id star_rating  helpful_votes  total_votes vine  \\\n",
       "4570802  R1CO0K9TH8KB2B           4          150.0        161.0    Y   \n",
       "895384   R132B9BM6NF5HV           2          106.0        110.0    Y   \n",
       "246911   R3IF59PJGCNU3Q           4           42.0         54.0    Y   \n",
       "2231278  R1R074CU88231L           5           20.0         24.0    Y   \n",
       "8646926  R2Y47H9NK9E3M2           4          146.0        148.0    Y   \n",
       "\n",
       "        verified_purchase      prcnt  \n",
       "4570802                 N  93.167702  \n",
       "895384                  N  96.363636  \n",
       "246911                  N  77.777778  \n",
       "2231278                 N  83.333333  \n",
       "8646926                 N  98.648649  "
      ],
      "text/html": "<div>\n<style scoped>\n    .dataframe tbody tr th:only-of-type {\n        vertical-align: middle;\n    }\n\n    .dataframe tbody tr th {\n        vertical-align: top;\n    }\n\n    .dataframe thead th {\n        text-align: right;\n    }\n</style>\n<table border=\"1\" class=\"dataframe\">\n  <thead>\n    <tr style=\"text-align: right;\">\n      <th></th>\n      <th>review_id</th>\n      <th>star_rating</th>\n      <th>helpful_votes</th>\n      <th>total_votes</th>\n      <th>vine</th>\n      <th>verified_purchase</th>\n      <th>prcnt</th>\n    </tr>\n  </thead>\n  <tbody>\n    <tr>\n      <th>4570802</th>\n      <td>R1CO0K9TH8KB2B</td>\n      <td>4</td>\n      <td>150.0</td>\n      <td>161.0</td>\n      <td>Y</td>\n      <td>N</td>\n      <td>93.167702</td>\n    </tr>\n    <tr>\n      <th>895384</th>\n      <td>R132B9BM6NF5HV</td>\n      <td>2</td>\n      <td>106.0</td>\n      <td>110.0</td>\n      <td>Y</td>\n      <td>N</td>\n      <td>96.363636</td>\n    </tr>\n    <tr>\n      <th>246911</th>\n      <td>R3IF59PJGCNU3Q</td>\n      <td>4</td>\n      <td>42.0</td>\n      <td>54.0</td>\n      <td>Y</td>\n      <td>N</td>\n      <td>77.777778</td>\n    </tr>\n    <tr>\n      <th>2231278</th>\n      <td>R1R074CU88231L</td>\n      <td>5</td>\n      <td>20.0</td>\n      <td>24.0</td>\n      <td>Y</td>\n      <td>N</td>\n      <td>83.333333</td>\n    </tr>\n    <tr>\n      <th>8646926</th>\n      <td>R2Y47H9NK9E3M2</td>\n      <td>4</td>\n      <td>146.0</td>\n      <td>148.0</td>\n      <td>Y</td>\n      <td>N</td>\n      <td>98.648649</td>\n    </tr>\n  </tbody>\n</table>\n</div>"
     },
     "metadata": {},
     "execution_count": 218
    }
   ],
   "source": [
    "vine_program_Y.sample(5)"
   ]
  },
  {
   "cell_type": "code",
   "execution_count": 284,
   "metadata": {},
   "outputs": [
    {
     "output_type": "execute_result",
     "data": {
      "text/plain": [
       "64968"
      ]
     },
     "metadata": {},
     "execution_count": 284
    }
   ],
   "source": [
    "# Review was not part of the Vine progrma(unpaid)\n",
    "vine_program_N = TotV_GE50prcnt[total_votes_GE20['vine'] == 'N']\n",
    "vine_program_N['star_rating'].count()"
   ]
  },
  {
   "cell_type": "code",
   "execution_count": 234,
   "metadata": {},
   "outputs": [
    {
     "output_type": "execute_result",
     "data": {
      "text/plain": [
       "              review_id star_rating  helpful_votes  total_votes vine  \\\n",
       "8991729  R3O3DA9DK46DOY           5           20.0         22.0    N   \n",
       "3720881   RCMJKM7QVQSSW           5           17.0         20.0    N   \n",
       "5613672  R1PB4TN2H1GBZK           5           69.0         78.0    N   \n",
       "8009767  R2VT21FE4LQSW0           1           51.0         63.0    N   \n",
       "2048476  R28NA4DKL4X8YN           2           48.0         62.0    N   \n",
       "\n",
       "        verified_purchase      prcnt  \n",
       "8991729                 N  90.909091  \n",
       "3720881                 Y  85.000000  \n",
       "5613672                 N  88.461538  \n",
       "8009767                 Y  80.952381  \n",
       "2048476                 N  77.419355  "
      ],
      "text/html": "<div>\n<style scoped>\n    .dataframe tbody tr th:only-of-type {\n        vertical-align: middle;\n    }\n\n    .dataframe tbody tr th {\n        vertical-align: top;\n    }\n\n    .dataframe thead th {\n        text-align: right;\n    }\n</style>\n<table border=\"1\" class=\"dataframe\">\n  <thead>\n    <tr style=\"text-align: right;\">\n      <th></th>\n      <th>review_id</th>\n      <th>star_rating</th>\n      <th>helpful_votes</th>\n      <th>total_votes</th>\n      <th>vine</th>\n      <th>verified_purchase</th>\n      <th>prcnt</th>\n    </tr>\n  </thead>\n  <tbody>\n    <tr>\n      <th>8991729</th>\n      <td>R3O3DA9DK46DOY</td>\n      <td>5</td>\n      <td>20.0</td>\n      <td>22.0</td>\n      <td>N</td>\n      <td>N</td>\n      <td>90.909091</td>\n    </tr>\n    <tr>\n      <th>3720881</th>\n      <td>RCMJKM7QVQSSW</td>\n      <td>5</td>\n      <td>17.0</td>\n      <td>20.0</td>\n      <td>N</td>\n      <td>Y</td>\n      <td>85.000000</td>\n    </tr>\n    <tr>\n      <th>5613672</th>\n      <td>R1PB4TN2H1GBZK</td>\n      <td>5</td>\n      <td>69.0</td>\n      <td>78.0</td>\n      <td>N</td>\n      <td>N</td>\n      <td>88.461538</td>\n    </tr>\n    <tr>\n      <th>8009767</th>\n      <td>R2VT21FE4LQSW0</td>\n      <td>1</td>\n      <td>51.0</td>\n      <td>63.0</td>\n      <td>N</td>\n      <td>Y</td>\n      <td>80.952381</td>\n    </tr>\n    <tr>\n      <th>2048476</th>\n      <td>R28NA4DKL4X8YN</td>\n      <td>2</td>\n      <td>48.0</td>\n      <td>62.0</td>\n      <td>N</td>\n      <td>N</td>\n      <td>77.419355</td>\n    </tr>\n  </tbody>\n</table>\n</div>"
     },
     "metadata": {},
     "execution_count": 234
    }
   ],
   "source": [
    "vine_program_N.sample(5)"
   ]
  },
  {
   "cell_type": "code",
   "execution_count": 221,
   "metadata": {},
   "outputs": [
    {
     "output_type": "execute_result",
     "data": {
      "text/plain": [
       "review_id            9002021\n",
       "star_rating          9001883\n",
       "helpful_votes        9001881\n",
       "total_votes          9001881\n",
       "vine                 9001881\n",
       "verified_purchase    9001881\n",
       "dtype: int64"
      ]
     },
     "metadata": {},
     "execution_count": 221
    }
   ],
   "source": [
    "# Total number of reviews\n",
    "vine_table_df.count()"
   ]
  },
  {
   "cell_type": "code",
   "execution_count": 237,
   "metadata": {},
   "outputs": [],
   "source": [
    "# Number of 5-star reviews\n",
    "fiveStar_df = vine_table_df[vine_table_df['star_rating'] == 5]"
   ]
  },
  {
   "cell_type": "code",
   "execution_count": 246,
   "metadata": {},
   "outputs": [
    {
     "output_type": "execute_result",
     "data": {
      "text/plain": [
       "              review_id star_rating  helpful_votes  total_votes vine  \\\n",
       "3163714  R3VE0FL00608AG           5            0.0          0.0    N   \n",
       "1828887   RTRIG8QON3FQZ           5            0.0          0.0    N   \n",
       "2088355  R3VGJY1PJU4VL1           5            0.0          0.0    N   \n",
       "576025    RZNQI6YU90JQM           5            0.0          0.0    N   \n",
       "7694147   R8TMITHSQERIH           5            0.0          0.0    N   \n",
       "\n",
       "        verified_purchase  \n",
       "3163714                 Y  \n",
       "1828887                 Y  \n",
       "2088355                 Y  \n",
       "576025                  Y  \n",
       "7694147                 Y  "
      ],
      "text/html": "<div>\n<style scoped>\n    .dataframe tbody tr th:only-of-type {\n        vertical-align: middle;\n    }\n\n    .dataframe tbody tr th {\n        vertical-align: top;\n    }\n\n    .dataframe thead th {\n        text-align: right;\n    }\n</style>\n<table border=\"1\" class=\"dataframe\">\n  <thead>\n    <tr style=\"text-align: right;\">\n      <th></th>\n      <th>review_id</th>\n      <th>star_rating</th>\n      <th>helpful_votes</th>\n      <th>total_votes</th>\n      <th>vine</th>\n      <th>verified_purchase</th>\n    </tr>\n  </thead>\n  <tbody>\n    <tr>\n      <th>3163714</th>\n      <td>R3VE0FL00608AG</td>\n      <td>5</td>\n      <td>0.0</td>\n      <td>0.0</td>\n      <td>N</td>\n      <td>Y</td>\n    </tr>\n    <tr>\n      <th>1828887</th>\n      <td>RTRIG8QON3FQZ</td>\n      <td>5</td>\n      <td>0.0</td>\n      <td>0.0</td>\n      <td>N</td>\n      <td>Y</td>\n    </tr>\n    <tr>\n      <th>2088355</th>\n      <td>R3VGJY1PJU4VL1</td>\n      <td>5</td>\n      <td>0.0</td>\n      <td>0.0</td>\n      <td>N</td>\n      <td>Y</td>\n    </tr>\n    <tr>\n      <th>576025</th>\n      <td>RZNQI6YU90JQM</td>\n      <td>5</td>\n      <td>0.0</td>\n      <td>0.0</td>\n      <td>N</td>\n      <td>Y</td>\n    </tr>\n    <tr>\n      <th>7694147</th>\n      <td>R8TMITHSQERIH</td>\n      <td>5</td>\n      <td>0.0</td>\n      <td>0.0</td>\n      <td>N</td>\n      <td>Y</td>\n    </tr>\n  </tbody>\n</table>\n</div>"
     },
     "metadata": {},
     "execution_count": 246
    }
   ],
   "source": [
    "fiveStar_df.sample(5)"
   ]
  },
  {
   "cell_type": "code",
   "execution_count": 247,
   "metadata": {},
   "outputs": [
    {
     "output_type": "execute_result",
     "data": {
      "text/plain": [
       "review_id            4699957\n",
       "star_rating          4699957\n",
       "helpful_votes        4699957\n",
       "total_votes          4699957\n",
       "vine                 4699957\n",
       "verified_purchase    4699957\n",
       "dtype: int64"
      ]
     },
     "metadata": {},
     "execution_count": 247
    }
   ],
   "source": [
    "fiveStar_df.count()"
   ]
  },
  {
   "source": [
    "# Total number of reviews"
   ],
   "cell_type": "markdown",
   "metadata": {}
  },
  {
   "cell_type": "code",
   "execution_count": 272,
   "metadata": {},
   "outputs": [
    {
     "output_type": "execute_result",
     "data": {
      "text/plain": [
       "65581"
      ]
     },
     "metadata": {},
     "execution_count": 272
    }
   ],
   "source": [
    "TotV_GE50prcnt['star_rating'].count()"
   ]
  },
  {
   "source": [
    "# Numbre of 5-Star reviews"
   ],
   "cell_type": "markdown",
   "metadata": {}
  },
  {
   "cell_type": "code",
   "execution_count": 259,
   "metadata": {},
   "outputs": [
    {
     "output_type": "execute_result",
     "data": {
      "text/plain": [
       "              review_id star_rating  helpful_votes  total_votes vine  \\\n",
       "8997030   RXEV5GYG6Q7P5           5          102.0        106.0    N   \n",
       "8963070  R1HVR3K131XBGX           5           68.0         71.0    N   \n",
       "718445   R1ZTIX98HH336K           5           77.0         78.0    N   \n",
       "7386029  R1SI5LBOX1ESF8           5           28.0         34.0    N   \n",
       "8668094   RHDOPTFTNU1UB           5           20.0         20.0    N   \n",
       "\n",
       "        verified_purchase       prcnt  \n",
       "8997030                 N   96.226415  \n",
       "8963070                 N   95.774648  \n",
       "718445                  Y   98.717949  \n",
       "7386029                 Y   82.352941  \n",
       "8668094                 Y  100.000000  "
      ],
      "text/html": "<div>\n<style scoped>\n    .dataframe tbody tr th:only-of-type {\n        vertical-align: middle;\n    }\n\n    .dataframe tbody tr th {\n        vertical-align: top;\n    }\n\n    .dataframe thead th {\n        text-align: right;\n    }\n</style>\n<table border=\"1\" class=\"dataframe\">\n  <thead>\n    <tr style=\"text-align: right;\">\n      <th></th>\n      <th>review_id</th>\n      <th>star_rating</th>\n      <th>helpful_votes</th>\n      <th>total_votes</th>\n      <th>vine</th>\n      <th>verified_purchase</th>\n      <th>prcnt</th>\n    </tr>\n  </thead>\n  <tbody>\n    <tr>\n      <th>8997030</th>\n      <td>RXEV5GYG6Q7P5</td>\n      <td>5</td>\n      <td>102.0</td>\n      <td>106.0</td>\n      <td>N</td>\n      <td>N</td>\n      <td>96.226415</td>\n    </tr>\n    <tr>\n      <th>8963070</th>\n      <td>R1HVR3K131XBGX</td>\n      <td>5</td>\n      <td>68.0</td>\n      <td>71.0</td>\n      <td>N</td>\n      <td>N</td>\n      <td>95.774648</td>\n    </tr>\n    <tr>\n      <th>718445</th>\n      <td>R1ZTIX98HH336K</td>\n      <td>5</td>\n      <td>77.0</td>\n      <td>78.0</td>\n      <td>N</td>\n      <td>Y</td>\n      <td>98.717949</td>\n    </tr>\n    <tr>\n      <th>7386029</th>\n      <td>R1SI5LBOX1ESF8</td>\n      <td>5</td>\n      <td>28.0</td>\n      <td>34.0</td>\n      <td>N</td>\n      <td>Y</td>\n      <td>82.352941</td>\n    </tr>\n    <tr>\n      <th>8668094</th>\n      <td>RHDOPTFTNU1UB</td>\n      <td>5</td>\n      <td>20.0</td>\n      <td>20.0</td>\n      <td>N</td>\n      <td>Y</td>\n      <td>100.000000</td>\n    </tr>\n  </tbody>\n</table>\n</div>"
     },
     "metadata": {},
     "execution_count": 259
    }
   ],
   "source": [
    "fiveStar_review = TotV_GE50prcnt[TotV_GE50prcnt['star_rating'] == 5]\n",
    "fiveStar_review.sample(5)"
   ]
  },
  {
   "cell_type": "code",
   "execution_count": 271,
   "metadata": {},
   "outputs": [
    {
     "output_type": "execute_result",
     "data": {
      "text/plain": [
       "29042"
      ]
     },
     "metadata": {},
     "execution_count": 271
    }
   ],
   "source": [
    "fiveStar_review['star_rating'].count()"
   ]
  },
  {
   "cell_type": "code",
   "execution_count": 321,
   "metadata": {},
   "outputs": [
    {
     "output_type": "execute_result",
     "data": {
      "text/plain": [
       "200"
      ]
     },
     "metadata": {},
     "execution_count": 321
    }
   ],
   "source": [
    "# Percentage of 5-Star reviews for the paid\n",
    "vine_program_Y_five = vine_program_Y[vine_program_Y['star_rating'] == 5]\n",
    "vine_program_Y_five['star_rating'].count()"
   ]
  },
  {
   "cell_type": "code",
   "execution_count": 320,
   "metadata": {},
   "outputs": [
    {
     "output_type": "execute_result",
     "data": {
      "text/plain": [
       "613"
      ]
     },
     "metadata": {},
     "execution_count": 320
    }
   ],
   "source": [
    "vine_program_Y['star_rating'].count()"
   ]
  },
  {
   "cell_type": "code",
   "execution_count": 318,
   "metadata": {},
   "outputs": [
    {
     "output_type": "execute_result",
     "data": {
      "text/plain": [
       "32.62642740619902"
      ]
     },
     "metadata": {},
     "execution_count": 318
    }
   ],
   "source": [
    "prcnt_of_five_paid = (vine_program_Y_five['star_rating'].count() / vine_program_Y['star_rating'].count()) * 100\n",
    "prcnt_of_five_paid"
   ]
  },
  {
   "cell_type": "code",
   "execution_count": 328,
   "metadata": {},
   "outputs": [
    {
     "output_type": "execute_result",
     "data": {
      "text/plain": [
       "28842"
      ]
     },
     "metadata": {},
     "execution_count": 328
    }
   ],
   "source": [
    "# Percentage of 5-Star reviews for the unpaid\n",
    "vine_program_N_five = vine_program_N[vine_program_N['star_rating'] == 5]\n",
    "vine_program_N_five['star_rating'].count()"
   ]
  },
  {
   "cell_type": "code",
   "execution_count": 327,
   "metadata": {},
   "outputs": [
    {
     "output_type": "execute_result",
     "data": {
      "text/plain": [
       "64968"
      ]
     },
     "metadata": {},
     "execution_count": 327
    }
   ],
   "source": [
    "vine_program_N['star_rating'].count()"
   ]
  },
  {
   "cell_type": "code",
   "execution_count": 325,
   "metadata": {},
   "outputs": [
    {
     "output_type": "execute_result",
     "data": {
      "text/plain": [
       "44.39416328038419"
      ]
     },
     "metadata": {},
     "execution_count": 325
    }
   ],
   "source": [
    "prcnt_of_five_unpaid = (vine_program_N_five['star_rating'].count() / vine_program_N['star_rating'].count()) * 100\n",
    "prcnt_of_five_unpaid"
   ]
  },
  {
   "cell_type": "code",
   "execution_count": null,
   "metadata": {},
   "outputs": [],
   "source": []
  }
 ]
}